{
 "cells": [
  {
   "cell_type": "markdown",
   "metadata": {},
   "source": [
    "## Input Forms\n",
    "### Pthon XPATH: 5074 ms\n",
    "### Python JS:   93 ms"
   ]
  },
  {
   "cell_type": "code",
   "execution_count": 1,
   "metadata": {},
   "outputs": [],
   "source": [
    "from selenium import webdriver\n",
    "from selenium.webdriver.common.by import By\n",
    "from selenium.webdriver.chrome.options import Options\n",
    "from selenium import webdriver\n",
    "import pandas as pd\n"
   ]
  },
  {
   "cell_type": "code",
   "execution_count": 2,
   "metadata": {},
   "outputs": [],
   "source": [
    "dic = pd.read_excel(\"doc/challenge (1).xlsx\").to_dict()"
   ]
  },
  {
   "cell_type": "code",
   "execution_count": 3,
   "metadata": {},
   "outputs": [],
   "source": [
    "def create_driver():\n",
    "    options = webdriver.EdgeOptions()\n",
    "\n",
    "    options.page_load_strategy = 'eager'\n",
    "    options.add_argument(\"--incognito\");\n",
    "    prefs = {\"profile.managed_default_content_settings.images\": 2}\n",
    "    options.add_experimental_option(\"prefs\", prefs)\n",
    "\n",
    "    driver = webdriver.Edge(options=options)\n",
    "    return driver\n",
    "\n",
    "driver = create_driver()"
   ]
  },
  {
   "cell_type": "code",
   "execution_count": 24,
   "metadata": {},
   "outputs": [],
   "source": [
    "def test_xpath(driver, dic):\n",
    "    driver.find_element(\n",
    "        By.XPATH, \"//button[@class='waves-effect col s12 m12 l12 btn-large uiColorButton']\").click()\n",
    "    for i in range(len(dic['Address'])):\n",
    "        driver.find_element(\n",
    "            By.XPATH, \"//input[@ng-reflect-name='labelRole']\").send_keys(dic[\"Role in Company\"][i])\n",
    "        driver.find_element(\n",
    "            By.XPATH, \"//input[@ng-reflect-name='labelFirstName']\").send_keys(dic[\"First Name\"][i])\n",
    "        driver.find_element(\n",
    "            By.XPATH, \"//input[@ng-reflect-name='labelLastName']\").send_keys(dic[\"Last Name \"][i])\n",
    "        driver.find_element(\n",
    "            By.XPATH, \"//input[@ng-reflect-name='labelPhone']\").send_keys(dic[\"Phone Number\"][i])\n",
    "        driver.find_element(\n",
    "            By.XPATH, \"//input[@ng-reflect-name='labelCompanyName']\").send_keys(dic[\"Company Name\"][i])\n",
    "        driver.find_element(\n",
    "            By.XPATH, \"//input[@ng-reflect-name='labelEmail']\").send_keys(dic[\"Email\"][i])\n",
    "        driver.find_element(\n",
    "            By.XPATH, \"//input[@ng-reflect-name='labelAddress']\").send_keys(dic[\"Address\"][i])\n",
    "        driver.find_element(By.XPATH, \"//input[@type='submit']\").click()\n",
    "\n",
    "    text = driver.find_element(By.XPATH, \"//div[@class='message2']\").text\n",
    "    return f'XPATH: {text.split(\"in \")[1]}'\n",
    "\n",
    "\n",
    "def test_js(driver, dic):\n",
    "    driver.find_element(\n",
    "        By.XPATH, \"//button[@class='waves-effect col s12 m12 l12 btn-large uiColorButton']\").click()\n",
    "\n",
    "    for i in range(len(dic['Address'])):\n",
    "        js = f\"const d={{labelAddress: '{dic['Address'][i]}',labelCompanyName: '{dic['Company Name'][i]}',labelLastName: '{dic['Last Name '][i]}',labelFirstName: '{dic['First Name'][i]}',labelEmail: '{dic['Email'][i]}',labelPhone: '{dic['Phone Number'][i]}',labelRole: '{dic['Role in Company'][i]}'}}\\nlist = document.querySelectorAll('body form > div input');\\nlist.forEach(function(i){{i.value = d[i.getAttribute('ng-reflect-name')];}});\\ndocument.querySelector('.btn.uiColorButton').click();\"\n",
    "        driver.execute_script(js)\n",
    "\n",
    "    text = driver.find_element(By.XPATH, \"//div[@class='message2']\").text\n",
    "    return f'JS: {text.split(\"in \")[1]}'"
   ]
  },
  {
   "cell_type": "code",
   "execution_count": 25,
   "metadata": {},
   "outputs": [
    {
     "name": "stdout",
     "output_type": "stream",
     "text": [
      "XPATH: 5074 milliseconds\n",
      "JS: 93 milliseconds\n"
     ]
    }
   ],
   "source": [
    "driver.get(\"http://www.rpachallenge.com/\")\n",
    "print(test_xpath(driver, dic))\n",
    "driver.get(\"http://www.rpachallenge.com/\")\n",
    "print(test_js(driver, dic))"
   ]
  }
 ],
 "metadata": {
  "kernelspec": {
   "display_name": "Python 3",
   "language": "python",
   "name": "python3"
  },
  "language_info": {
   "codemirror_mode": {
    "name": "ipython",
    "version": 3
   },
   "file_extension": ".py",
   "mimetype": "text/x-python",
   "name": "python",
   "nbconvert_exporter": "python",
   "pygments_lexer": "ipython3",
   "version": "3.11.1"
  }
 },
 "nbformat": 4,
 "nbformat_minor": 2
}
